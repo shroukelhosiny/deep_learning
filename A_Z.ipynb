{
  "cells": [
    {
      "cell_type": "markdown",
      "metadata": {
        "id": "IDskUD0B42Zy"
      },
      "source": [
        "**connect to drive**"
      ]
    },
    {
      "cell_type": "code",
      "execution_count": null,
      "metadata": {
        "colab": {
          "base_uri": "https://localhost:8080/"
        },
        "id": "8YFLsN6I4wrh",
        "outputId": "e8a500e6-683f-4513-f2c1-fa9efe91ee9c"
      },
      "outputs": [
        {
          "output_type": "stream",
          "name": "stdout",
          "text": [
            "Mounted at /content/drive\n"
          ]
        }
      ],
      "source": [
        "from google.colab import drive\n",
        "drive.mount('/content/drive')"
      ]
    },
    {
      "cell_type": "code",
      "execution_count": null,
      "metadata": {
        "id": "U8367RqsPg2b"
      },
      "outputs": [],
      "source": [
        "import numpy as np\n",
        "import pandas as pd\n",
        "import matplotlib.pyplot as plt\n",
        "from sklearn.model_selection import train_test_split\n",
        "from sklearn.utils import shuffle\n",
        "from keras.models import Sequential\n",
        "from keras.layers import Dense, Flatten, Conv2D, MaxPool2D\n",
        "from keras.optimizers import SGD, Adam\n",
        "from keras.callbacks import  EarlyStopping\n",
        "from keras.utils import to_categorical"
      ]
    },
    {
      "cell_type": "code",
      "execution_count": null,
      "metadata": {
        "id": "kxODno_TPk-9"
      },
      "outputs": [],
      "source": [
        "csv_path = '/content/drive/MyDrive/a-z/A_Z Handwritten Data.csv'\n",
        "\n",
        "# Load CSV file into a DataFrame\n",
        "data = pd.read_csv(csv_path)\n",
        "# data.head()"
      ]
    },
    {
      "cell_type": "markdown",
      "metadata": {
        "id": "JulQy84UPyNS"
      },
      "source": [
        " **data shuffling**"
      ]
    },
    {
      "cell_type": "code",
      "execution_count": null,
      "metadata": {
        "colab": {
          "base_uri": "https://localhost:8080/"
        },
        "id": "XqmDxkQ4Pv0m",
        "outputId": "9a56f909-7f3a-4198-b1bb-7aa3eaf39cd8"
      },
      "outputs": [
        {
          "output_type": "execute_result",
          "data": {
            "text/plain": [
              "(372450, 785)"
            ]
          },
          "metadata": {},
          "execution_count": 5
        }
      ],
      "source": [
        "data = shuffle(data)\n",
        "data.shape"
      ]
    },
    {
      "cell_type": "markdown",
      "metadata": {
        "id": "UZLB3Jh1QOUn"
      },
      "source": [
        "**split data to train and test**"
      ]
    },
    {
      "cell_type": "code",
      "execution_count": null,
      "metadata": {
        "id": "4suNfPqzQHtM"
      },
      "outputs": [],
      "source": [
        "X = data.drop('0',axis = 1)\n",
        "y = data['0']\n",
        "# print(X)\n",
        "# print(\"........................................................................\")\n",
        "# print(y)\n",
        "train_x, test_x, train_y, test_y = train_test_split(X, y, test_size = 0.2)\n",
        "\n",
        "train_x = np.reshape(train_x.values, (train_x.shape[0], 28,28,1))\n",
        "test_x = np.reshape(test_x.values, (test_x.shape[0], 28,28,1))\n",
        "\n"
      ]
    },
    {
      "cell_type": "markdown",
      "metadata": {
        "id": "esAc_TsHQkgU"
      },
      "source": [
        "**# Plot a sample of dataset**"
      ]
    },
    {
      "cell_type": "code",
      "execution_count": null,
      "metadata": {
        "colab": {
          "base_uri": "https://localhost:8080/",
          "height": 433
        },
        "id": "CpJPMZ4ZQdAn",
        "outputId": "bcae76a5-4dbe-4674-97ba-872844eeda0f"
      },
      "outputs": [
        {
          "output_type": "display_data",
          "data": {
            "text/plain": [
              "<Figure size 640x480 with 9 Axes>"
            ],
            "image/png": "[encoded data removed]"
          },
          "metadata": {}
        }
      ],
      "source": [
        "for i in range(9):\n",
        "\tplt.subplot(3,3,i+1)\n",
        "\t# plot raw pixel data\n",
        "\tplt.imshow(train_x[i],cmap=plt.get_cmap('gray'))\n",
        "plt.show()"
      ]
    },
    {
      "cell_type": "markdown",
      "metadata": {
        "id": "G8bVzGxyRF5b"
      },
      "source": [
        "**reashape datset**"
      ]
    },
    {
      "cell_type": "code",
      "execution_count": null,
      "metadata": {
        "colab": {
          "base_uri": "https://localhost:8080/"
        },
        "id": "p6PFuDZQRGHC",
        "outputId": "92d72bd2-c11d-4cdf-d12e-1ea0f9ca0a1b"
      },
      "outputs": [
        {
          "output_type": "stream",
          "name": "stdout",
          "text": [
            "The new shape of train data:  (297960, 28, 28, 1)\n",
            "The new shape of train data:  (74490, 28, 28, 1)\n",
            "The new shape of train labels:  (297960, 26)\n",
            "The new shape of test labels:  (74490, 26)\n"
          ]
        }
      ],
      "source": [
        "print(\"The new shape of train data: \", train_x.shape)\n",
        "print(\"The new shape of train data: \", test_x.shape)\n",
        "# One Hot Encoding\n",
        "train_yOHE = to_categorical(train_y, num_classes = 26, dtype='int')\n",
        "print(\"The new shape of train labels: \", train_yOHE.shape)\n",
        "\n",
        "test_yOHE = to_categorical(test_y, num_classes = 26, dtype='int')\n",
        "print(\"The new shape of test labels: \", test_yOHE.shape)"
      ]
    },
    {
      "cell_type": "markdown",
      "metadata": {
        "id": "wfQraK0iRofY"
      },
      "source": [
        "**Data Preparation**"
      ]
    },
    {
      "cell_type": "code",
      "execution_count": null,
      "metadata": {
        "id": "e8IkOeHYRrvR"
      },
      "outputs": [],
      "source": [
        "def prep_pixels(train, test):\n",
        "\t# convert from integers to floats\n",
        "\ttrain_norm = train.astype('float32')\n",
        "\ttest_norm = test.astype('float32')\n",
        "\t# normalize to range 0-1\n",
        "\ttrain_norm = train_norm / 255.0\n",
        "\ttest_norm = test_norm / 255.0\n",
        "\t# return normalized images\n",
        "\treturn train_norm, test_norm"
      ]
    },
    {
      "cell_type": "code",
      "execution_count": null,
      "metadata": {
        "id": "wGsGqMG2RwXT"
      },
      "outputs": [],
      "source": [
        "train_X,test_X=prep_pixels(train_X,test_X)"
      ]
    },
    {
      "cell_type": "markdown",
      "metadata": {
        "id": "GiNCrvZyR5QY"
      },
      "source": [
        "** builde the model**"
      ]
    },
    {
      "cell_type": "code",
      "execution_count": null,
      "metadata": {
        "colab": {
          "base_uri": "https://localhost:8080/"
        },
        "id": "AVl9pCSIR5YE",
        "outputId": "8c097c77-dd08-49b1-8f0e-094cd7f7c82e"
      },
      "outputs": [
        {
          "output_type": "stream",
          "name": "stdout",
          "text": [
            "Model: \"sequential\"\n",
            "_________________________________________________________________\n",
            " Layer (type)                Output Shape              Param #   \n",
            "=================================================================\n",
            " conv2d (Conv2D)             (None, 28, 28, 20)        200       \n",
            "                                                                 \n",
            " max_pooling2d (MaxPooling2  (None, 14, 14, 20)        0         \n",
            " D)                                                              \n",
            "                                                                 \n",
            " conv2d_1 (Conv2D)           (None, 12, 12, 35)        6335      \n",
            "                                                                 \n",
            " max_pooling2d_1 (MaxPoolin  (None, 6, 6, 35)          0         \n",
            " g2D)                                                            \n",
            "                                                                 \n",
            " conv2d_2 (Conv2D)           (None, 4, 4, 32)          10112     \n",
            "                                                                 \n",
            " max_pooling2d_2 (MaxPoolin  (None, 2, 2, 32)          0         \n",
            " g2D)                                                            \n",
            "                                                                 \n",
            " flatten (Flatten)           (None, 128)               0         \n",
            "                                                                 \n",
            " dense (Dense)               (None, 128)               16512     \n",
            "                                                                 \n",
            " dense_1 (Dense)             (None, 64)                8256      \n",
            "                                                                 \n",
            " dense_2 (Dense)             (None, 26)                1690      \n",
            "                                                                 \n",
            "=================================================================\n",
            "Total params: 43105 (168.38 KB)\n",
            "Trainable params: 43105 (168.38 KB)\n",
            "Non-trainable params: 0 (0.00 Byte)\n",
            "_________________________________________________________________\n"
          ]
        }
      ],
      "source": [
        "model = Sequential()\n",
        "model.add(Conv2D(filters=20, kernel_size=(3, 3), padding='same', activation='relu', input_shape=(28,28,1)))\n",
        "model.add(MaxPool2D(pool_size=(2, 2)))\n",
        "\n",
        "model.add(Conv2D(filters=35, kernel_size=(3, 3), activation='relu', padding = 'valid'))\n",
        "model.add(MaxPool2D(pool_size=(2, 2)))\n",
        "\n",
        "model.add(Conv2D(filters=32, kernel_size=(3, 3), activation='relu', padding = 'valid'))\n",
        "model.add(MaxPool2D(pool_size=(2, 2)))\n",
        "\n",
        "model.add(Flatten())\n",
        "\n",
        "model.add(Dense(128,activation =\"relu\"))\n",
        "model.add(Dense(64,activation =\"relu\"))\n",
        "model.add(Dense(26,activation =\"softmax\"))\n",
        "model.summary()"
      ]
    },
    {
      "cell_type": "markdown",
      "metadata": {
        "id": "nLOyvBEZSMuK"
      },
      "source": [
        "\n",
        "**# Evaluate Model Performance**"
      ]
    },
    {
      "cell_type": "code",
      "execution_count": null,
      "metadata": {
        "colab": {
          "base_uri": "https://localhost:8080/"
        },
        "id": "jXChFJnJSM4l",
        "outputId": "294c9719-dc4d-46ee-90f9-f3105c5d0621"
      },
      "outputs": [
        {
          "output_type": "stream",
          "name": "stdout",
          "text": [
            "Epoch 1/10\n",
            "9312/9312 [==============================] - 260s 28ms/step - loss: 1.9710 - accuracy: 0.4656 - val_loss: 0.6999 - val_accuracy: 0.7892\n",
            "Epoch 2/10\n",
            "9312/9312 [==============================] - 255s 27ms/step - loss: 0.4701 - accuracy: 0.8607 - val_loss: 0.3419 - val_accuracy: 0.9004\n",
            "Epoch 3/10\n",
            "9312/9312 [==============================] - 261s 28ms/step - loss: 0.2977 - accuracy: 0.9132 - val_loss: 0.2490 - val_accuracy: 0.9298\n",
            "Epoch 4/10\n",
            "9312/9312 [==============================] - 259s 28ms/step - loss: 0.2361 - accuracy: 0.9320 - val_loss: 0.2180 - val_accuracy: 0.9383\n",
            "Epoch 5/10\n",
            "9312/9312 [==============================] - 256s 27ms/step - loss: 0.2001 - accuracy: 0.9432 - val_loss: 0.1965 - val_accuracy: 0.9442\n",
            "Epoch 6/10\n",
            "9312/9312 [==============================] - 282s 30ms/step - loss: 0.1762 - accuracy: 0.9498 - val_loss: 0.1625 - val_accuracy: 0.9547\n",
            "Epoch 7/10\n",
            "9312/9312 [==============================] - 258s 28ms/step - loss: 0.1588 - accuracy: 0.9547 - val_loss: 0.1500 - val_accuracy: 0.9588\n",
            "Epoch 8/10\n",
            "9312/9312 [==============================] - 260s 28ms/step - loss: 0.1453 - accuracy: 0.9589 - val_loss: 0.1430 - val_accuracy: 0.9600\n",
            "Epoch 9/10\n",
            "9312/9312 [==============================] - 263s 28ms/step - loss: 0.1348 - accuracy: 0.9618 - val_loss: 0.1305 - val_accuracy: 0.9635\n",
            "Epoch 10/10\n",
            "9312/9312 [==============================] - 264s 28ms/step - loss: 0.1260 - accuracy: 0.9646 - val_loss: 0.1367 - val_accuracy: 0.9610\n"
          ]
        }
      ],
      "source": [
        "model.compile(optimizer = SGD(learning_rate=0.001), loss='categorical_crossentropy', metrics=['accuracy'])\n",
        "early_stopping = EarlyStopping(monitor='val_loss', mode='min', patience=5)\n",
        "history = model.fit(train_X, train_yOHE, epochs=10, validation_data = (test_X,test_yOHE), callbacks=[early_stopping])\n"
      ]
    },
    {
      "cell_type": "code",
      "execution_count": null,
      "metadata": {
        "colab": {
          "base_uri": "https://localhost:8080/"
        },
        "id": "YEK4XBVAYXG7",
        "outputId": "9be31c44-8960-4dfa-8bf7-97cb84ecdf54"
      },
      "outputs": [
        {
          "output_type": "stream",
          "name": "stdout",
          "text": [
            "2328/2328 [==============================] - 23s 10ms/step - loss: 0.1367 - accuracy: 0.9610\n",
            "Loss: 0.1367\n",
            "Accuracy: 96.10%\n"
          ]
        }
      ],
      "source": [
        "evaluation = model.evaluate(test_X, test_yOHE)\n",
        "\n",
        "print(\"Loss: {:.4f}\".format(evaluation[0]))\n",
        "print(\"Accuracy: {:.2%}\".format(evaluation[1]))"
      ]
    },
    {
      "cell_type": "code",
      "execution_count": null,
      "metadata": {
        "colab": {
          "base_uri": "https://localhost:8080/"
        },
        "id": "VBeespo4YfVI",
        "outputId": "ecbb16e1-f66d-449b-a177-926385a4381d"
      },
      "outputs": [
        {
          "output_type": "stream",
          "name": "stdout",
          "text": [
            "2328/2328 [==============================] - 20s 9ms/step\n",
            "conf_matrix :\n",
            "              precision    recall  f1-score   support\n",
            "\n",
            "           0       0.97      0.94      0.95      2803\n",
            "           1       0.97      0.92      0.95      1759\n",
            "           2       0.95      0.98      0.96      4702\n",
            "           3       0.95      0.90      0.92      2097\n",
            "           4       0.98      0.91      0.95      2246\n",
            "           5       0.96      0.93      0.95       233\n",
            "           6       0.91      0.92      0.92      1139\n",
            "           7       0.93      0.88      0.91      1372\n",
            "           8       0.97      0.81      0.88       228\n",
            "           9       0.81      0.96      0.88      1680\n",
            "          10       0.93      0.93      0.93      1121\n",
            "          11       0.97      0.97      0.97      2349\n",
            "          12       0.95      0.97      0.96      2421\n",
            "          13       0.94      0.97      0.95      3837\n",
            "          14       0.98      0.98      0.98     11531\n",
            "          15       0.98      0.97      0.98      3792\n",
            "          16       0.91      0.94      0.92      1172\n",
            "          17       0.93      0.95      0.94      2314\n",
            "          18       1.00      0.96      0.98      9687\n",
            "          19       0.98      0.99      0.98      4531\n",
            "          20       0.96      0.99      0.97      5796\n",
            "          21       0.97      0.98      0.97       830\n",
            "          22       0.98      0.91      0.95      2180\n",
            "          23       0.97      0.95      0.96      1252\n",
            "          24       0.92      0.96      0.94      2190\n",
            "          25       0.96      0.97      0.97      1228\n",
            "\n",
            "    accuracy                           0.96     74490\n",
            "   macro avg       0.95      0.94      0.95     74490\n",
            "weighted avg       0.96      0.96      0.96     74490\n",
            "\n"
          ]
        }
      ],
      "source": [
        "from sklearn.metrics import classification_report\n",
        "predictions = model.predict(test_X)\n",
        "# Convert predictions and true labels to class indices\n",
        "predicted_classes = np.argmax(predictions, axis=1)\n",
        "true_classes = np.argmax(test_yOHE, axis=1)\n",
        "\n",
        "# Calculate confusion matrix\n",
        "conf_matrix = classification_report(true_classes, predicted_classes)\n",
        "print(\"conf_matrix :\")\n",
        "print(conf_matrix)"
      ]
    },
    {
      "cell_type": "code",
      "execution_count": null,
      "metadata": {
        "id": "pLAWce0vYi40",
        "colab": {
          "base_uri": "https://localhost:8080/",
          "height": 754
        },
        "outputId": "81163920-9d00-421f-bb66-783e6b197a00"
      },
      "outputs": [
        {
          "output_type": "display_data",
          "data": {
            "text/plain": [
              "<Figure size 800x900 with 9 Axes>"
            ],
            "image/png": "[encoded data removed]"
          },
          "metadata": {}
        }
      ],
      "source": [
        "# Prediction on test data\n",
        "word_dict = {0:'A',1:'B',2:'C',3:'D',4:'E',5:'F',6:'G',7:'H',8:'I',9:'J',10:'K',11:'L',12:'M',13:'N',14:'O',15:'P',16:'Q',17:'R',\n",
        "              18: 'S',19: 'T', 20:'U',21 :'V',22:'W',23:'X', 24:'Y',25:'Z'}\n",
        "fig, axes = plt.subplots(3,3, figsize=(8,9))\n",
        "axes = axes.flatten()\n",
        "\n",
        "for i,ax in enumerate(axes):\n",
        "    img = np.reshape(test_X[i], (28,28))\n",
        "    ax.imshow(img,  cmap=plt.get_cmap('gray'))\n",
        "\n",
        "    pred = word_dict[np.argmax(test_yOHE[i])]\n",
        "    ax.set_title(\"Prediction: \"+pred)"
      ]
    },
    {
      "cell_type": "markdown",
      "metadata": {
        "id": "BpupfH1DZBZN"
      },
      "source": [
        "** LeNet-5 model**"
      ]
    },
    {
      "cell_type": "code",
      "execution_count": null,
      "metadata": {
        "colab": {
          "base_uri": "https://localhost:8080/"
        },
        "id": "vKuklVToY6kn",
        "outputId": "f1ddf583-bbb4-49b9-ba48-1422c091fd91"
      },
      "outputs": [
        {
          "name": "stdout",
          "output_type": "stream",
          "text": [
            "Model: \"sequential\"\n",
            "_________________________________________________________________\n",
            " Layer (type)                Output Shape              Param #   \n",
            "=================================================================\n",
            " conv2d (Conv2D)             (None, 24, 24, 6)         156       \n",
            "                                                                 \n",
            " average_pooling2d (Average  (None, 12, 12, 6)         0         \n",
            " Pooling2D)                                                      \n",
            "                                                                 \n",
            " conv2d_1 (Conv2D)           (None, 8, 8, 16)          2416      \n",
            "                                                                 \n",
            " average_pooling2d_1 (Avera  (None, 4, 4, 16)          0         \n",
            " gePooling2D)                                                    \n",
            "                                                                 \n",
            " flatten (Flatten)           (None, 256)               0         \n",
            "                                                                 \n",
            " dense (Dense)               (None, 120)               30840     \n",
            "                                                                 \n",
            " dense_1 (Dense)             (None, 84)                10164     \n",
            "                                                                 \n",
            " dense_2 (Dense)             (None, 26)                2210      \n",
            "                                                                 \n",
            "=================================================================\n",
            "Total params: 45786 (178.85 KB)\n",
            "Trainable params: 45786 (178.85 KB)\n",
            "Non-trainable params: 0 (0.00 Byte)\n",
            "_________________________________________________________________\n"
          ]
        }
      ],
      "source": [
        "from keras.layers import AveragePooling2D\n",
        "\n",
        "# Define LeNet-5 model\n",
        "def build_lenet5(input_shape, num_classes):\n",
        "    model2 = Sequential()\n",
        "\n",
        "    # Layer 1: Convolutional + Pooling\n",
        "    model2.add(Conv2D(filters=6, kernel_size=(5, 5), activation='relu', input_shape=input_shape))\n",
        "    model2.add(AveragePooling2D(pool_size=(2, 2)))\n",
        "\n",
        "    # Layer 2: Convolutional + Pooling\n",
        "    model2.add(Conv2D(filters=16, kernel_size=(5, 5), activation='relu'))\n",
        "    model2.add(AveragePooling2D(pool_size=(2, 2)))\n",
        "\n",
        "    # Flatten before fully connected layers\n",
        "    model2.add(Flatten())\n",
        "\n",
        "    # Layer 3: Fully Connected\n",
        "    model2.add(Dense(units=120, activation='relu'))\n",
        "\n",
        "    # Layer 4: Fully Connected\n",
        "    model2.add(Dense(units=84, activation='relu'))\n",
        "\n",
        "    # Output layer\n",
        "    # model2.add(Dense(units=num_classes, activation='softmax'))\n",
        "    model2.add(Dense(units=26, activation='softmax'))\n",
        "\n",
        "    return model2\n",
        "\n",
        "# Assuming input images are 28x28 pixels (adjust accordingly)\n",
        "input_shape = (28, 28, 1)\n",
        "\n",
        "# Number of classes (adjust based on your problem)\n",
        "num_classes = 26\n",
        "\n",
        "# Build LeNet-5 model\n",
        "model2 = build_lenet5(input_shape, num_classes)\n",
        "\n",
        "# Display model summary\n",
        "model2.summary()\n"
      ]
    },
    {
      "cell_type": "code",
      "execution_count": null,
      "metadata": {
        "colab": {
          "base_uri": "https://localhost:8080/"
        },
        "id": "2dmxUepZZHSb",
        "outputId": "23742a72-6511-498b-cad8-43ba6aac64a0"
      },
      "outputs": [
        {
          "name": "stdout",
          "output_type": "stream",
          "text": [
            "Epoch 1/5\n",
            "9312/9312 [==============================] - 98s 10ms/step - loss: 0.1797 - accuracy: 0.9489 - val_loss: 0.0863 - val_accuracy: 0.9751\n",
            "Epoch 2/5\n",
            "9312/9312 [==============================] - 96s 10ms/step - loss: 0.0689 - accuracy: 0.9800 - val_loss: 0.0606 - val_accuracy: 0.9823\n",
            "Epoch 3/5\n",
            "9312/9312 [==============================] - 96s 10ms/step - loss: 0.0522 - accuracy: 0.9848 - val_loss: 0.0514 - val_accuracy: 0.9849\n",
            "Epoch 4/5\n",
            "9312/9312 [==============================] - 94s 10ms/step - loss: 0.0429 - accuracy: 0.9872 - val_loss: 0.0444 - val_accuracy: 0.9873\n",
            "Epoch 5/5\n",
            "9312/9312 [==============================] - 96s 10ms/step - loss: 0.0361 - accuracy: 0.9891 - val_loss: 0.0497 - val_accuracy: 0.9856\n"
          ]
        }
      ],
      "source": [
        "from keras.losses import categorical_crossentropy\n",
        "model2.compile(optimizer=Adam(learning_rate=0.001), loss=categorical_crossentropy, metrics=['accuracy'])\n",
        "early_stopping = EarlyStopping(monitor='val_loss', mode='min', patience=5)\n",
        "history = model2.fit(train_X, train_yOHE, epochs=5, validation_data = (test_X,test_yOHE), callbacks=[early_stopping])"
      ]
    },
    {
      "cell_type": "code",
      "execution_count": null,
      "metadata": {
        "colab": {
          "base_uri": "https://localhost:8080/",
          "height": 754
        },
        "id": "EpfjBIcBZNPh",
        "outputId": "aec7c9dd-3146-4a74-f25c-f85a2b23a370"
      },
      "outputs": [
        {
          "data": {
            "image/png": "[encoded data removed]",
            "text/plain": [
              "<Figure size 800x900 with 9 Axes>"
            ]
          },
          "metadata": {},
          "output_type": "display_data"
        }
      ],
      "source": [
        "# Prediction on test data\n",
        "fig, axes = plt.subplots(3,3, figsize=(8,9))\n",
        "axes = axes.flatten()\n",
        "\n",
        "for i,ax in enumerate(axes):\n",
        "    img = np.reshape(test_X[i], (28,28))\n",
        "    ax.imshow(img,  cmap=plt.get_cmap('gray'))\n",
        "\n",
        "    pred = word_dict[np.argmax(test_yOHE[i])]\n",
        "    ax.set_title(\"Prediction: \"+pred)"
      ]
    }
  ],
  "metadata": {
    "colab": {
      "provenance": []
    },
    "kernelspec": {
      "display_name": "Python 3",
      "name": "python3"
    },
    "language_info": {
      "name": "python"
    }
  },
  "nbformat": 4,
  "nbformat_minor": 0
}